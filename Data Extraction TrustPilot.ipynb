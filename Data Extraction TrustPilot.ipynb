{
 "cells": [
  {
   "cell_type": "code",
   "execution_count": 1,
   "metadata": {},
   "outputs": [],
   "source": [
    "from bs4 import BeautifulSoup\n",
    "import math\n",
    "import pandas as pd\n",
    "final_list=[]#final list to be the df\n",
    "import json\n",
    "import requests"
   ]
  },
  {
   "cell_type": "code",
   "execution_count": 7,
   "metadata": {},
   "outputs": [],
   "source": [
    "final_list=[]\n",
    "url = 'https://uk.trustpilot.com/review/idealboilers.com'\n",
    "#making a request to get the number of reviews\n",
    "r=requests.get(url)\n",
    "soup = BeautifulSoup(r.text, 'lxml')\n",
    "review_count_h2=soup.find('h2',class_=\"header--inline\").text\n",
    "review_count_h2=review_count_h2.strip().split(' ')[0].strip()\n",
    "review_count=int(review_count_h2.replace(',', ''))\n",
    "#there are 20 reviews per page so pages can be calculated as\n",
    "pages=int(math.ceil(review_count/20))\n",
    "#change range to 1 to pages+1\n",
    "for pg in range(1, pages+1):\n",
    "  pg = url + '?page=' + str(pg)\n",
    "  r=requests.get(pg)\n",
    "  soup = BeautifulSoup(r.text, 'lxml')\n",
    "  for paragraph in soup.find_all('section',class_='review__content'):\n",
    "     try:\n",
    "         title=paragraph.find('h2',class_='review-content__title').text.strip()\n",
    "         content=paragraph.find('p',class_='review-content__text').text.strip()\n",
    "         datedata= json.loads(paragraph.find('div',class_='review-content-header__dates').text)\n",
    "         date=datedata['publishedDate'].split('T')[0]\n",
    "         rating_class=paragraph.find('div',class_='star-rating')['class']\n",
    "         rating=rating_class[1].split('-')[-1]\n",
    "         star = paragraph.find(\"div\", {\"class\":\"star-rating star-rating--medium\"}).find('img').get('alt')\n",
    "         final_list.append([title,content,date,rating,star])\n",
    "     except AttributeError:\n",
    "        pass\n",
    "df = pd.DataFrame(final_list,columns=['Title','Content','Date','Rating','Star'])"
   ]
  },
  {
   "cell_type": "code",
   "execution_count": 8,
   "metadata": {},
   "outputs": [
    {
     "data": {
      "text/html": [
       "<div>\n",
       "<style scoped>\n",
       "    .dataframe tbody tr th:only-of-type {\n",
       "        vertical-align: middle;\n",
       "    }\n",
       "\n",
       "    .dataframe tbody tr th {\n",
       "        vertical-align: top;\n",
       "    }\n",
       "\n",
       "    .dataframe thead th {\n",
       "        text-align: right;\n",
       "    }\n",
       "</style>\n",
       "<table border=\"1\" class=\"dataframe\">\n",
       "  <thead>\n",
       "    <tr style=\"text-align: right;\">\n",
       "      <th></th>\n",
       "      <th>Title</th>\n",
       "      <th>Content</th>\n",
       "      <th>Date</th>\n",
       "      <th>Rating</th>\n",
       "      <th>Star</th>\n",
       "    </tr>\n",
       "  </thead>\n",
       "  <tbody>\n",
       "    <tr>\n",
       "      <th>0</th>\n",
       "      <td>Stopped installing Ideal Boilers.</td>\n",
       "      <td>Carbon credits are not being paid within a rea...</td>\n",
       "      <td>2020-03-29</td>\n",
       "      <td>medium</td>\n",
       "      <td>1 star: Bad</td>\n",
       "    </tr>\n",
       "    <tr>\n",
       "      <th>1</th>\n",
       "      <td>Always have great back up from Ideal…</td>\n",
       "      <td>Always have great back up from Ideal Boilers</td>\n",
       "      <td>2020-03-29</td>\n",
       "      <td>medium</td>\n",
       "      <td>5 stars: Excellent</td>\n",
       "    </tr>\n",
       "    <tr>\n",
       "      <th>2</th>\n",
       "      <td>Solid and trustworthy boilers</td>\n",
       "      <td>Bought a house that already had an Ideal boile...</td>\n",
       "      <td>2020-03-28</td>\n",
       "      <td>medium</td>\n",
       "      <td>5 stars: Excellent</td>\n",
       "    </tr>\n",
       "    <tr>\n",
       "      <th>3</th>\n",
       "      <td>would give ideal boilers and the…</td>\n",
       "      <td>would give ideal boilers and the service plans...</td>\n",
       "      <td>2020-03-26</td>\n",
       "      <td>medium</td>\n",
       "      <td>1 star: Bad</td>\n",
       "    </tr>\n",
       "    <tr>\n",
       "      <th>4</th>\n",
       "      <td>Great value boilers</td>\n",
       "      <td>Great value boilers, with industry leading war...</td>\n",
       "      <td>2020-03-24</td>\n",
       "      <td>medium</td>\n",
       "      <td>5 stars: Excellent</td>\n",
       "    </tr>\n",
       "  </tbody>\n",
       "</table>\n",
       "</div>"
      ],
      "text/plain": [
       "                                   Title  \\\n",
       "0      Stopped installing Ideal Boilers.   \n",
       "1  Always have great back up from Ideal…   \n",
       "2          Solid and trustworthy boilers   \n",
       "3      would give ideal boilers and the…   \n",
       "4                    Great value boilers   \n",
       "\n",
       "                                             Content        Date  Rating  \\\n",
       "0  Carbon credits are not being paid within a rea...  2020-03-29  medium   \n",
       "1       Always have great back up from Ideal Boilers  2020-03-29  medium   \n",
       "2  Bought a house that already had an Ideal boile...  2020-03-28  medium   \n",
       "3  would give ideal boilers and the service plans...  2020-03-26  medium   \n",
       "4  Great value boilers, with industry leading war...  2020-03-24  medium   \n",
       "\n",
       "                 Star  \n",
       "0         1 star: Bad  \n",
       "1  5 stars: Excellent  \n",
       "2  5 stars: Excellent  \n",
       "3         1 star: Bad  \n",
       "4  5 stars: Excellent  "
      ]
     },
     "execution_count": 8,
     "metadata": {},
     "output_type": "execute_result"
    }
   ],
   "source": [
    "df.head()"
   ]
  },
  {
   "cell_type": "code",
   "execution_count": 9,
   "metadata": {},
   "outputs": [],
   "source": [
    "df.to_csv('Ideal Boilers Data New.csv', index=False) "
   ]
  },
  {
   "cell_type": "code",
   "execution_count": null,
   "metadata": {},
   "outputs": [],
   "source": []
  }
 ],
 "metadata": {
  "kernelspec": {
   "display_name": "Python 3",
   "language": "python",
   "name": "python3"
  },
  "language_info": {
   "codemirror_mode": {
    "name": "ipython",
    "version": 3
   },
   "file_extension": ".py",
   "mimetype": "text/x-python",
   "name": "python",
   "nbconvert_exporter": "python",
   "pygments_lexer": "ipython3",
   "version": "3.6.8"
  }
 },
 "nbformat": 4,
 "nbformat_minor": 2
}
